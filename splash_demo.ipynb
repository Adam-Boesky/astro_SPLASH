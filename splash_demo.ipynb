{
 "cells": [
  {
   "cell_type": "code",
   "execution_count": 1,
   "metadata": {},
   "outputs": [],
   "source": [
    "import pickle\n",
    "import pandas as pd\n",
    "import numpy as np\n",
    "\n",
    "from astropy.io import ascii\n",
    "from astropy.coordinates import SkyCoord\n",
    "from SPLASH.pipeline import Splash_Pipeline"
   ]
  },
  {
   "cell_type": "markdown",
   "metadata": {},
   "source": [
    "# Load in data"
   ]
  },
  {
   "cell_type": "code",
   "execution_count": 2,
   "metadata": {},
   "outputs": [
    {
     "data": {
      "text/html": [
       "<div>\n",
       "<style scoped>\n",
       "    .dataframe tbody tr th:only-of-type {\n",
       "        vertical-align: middle;\n",
       "    }\n",
       "\n",
       "    .dataframe tbody tr th {\n",
       "        vertical-align: top;\n",
       "    }\n",
       "\n",
       "    .dataframe thead th {\n",
       "        text-align: right;\n",
       "    }\n",
       "</style>\n",
       "<table border=\"1\" class=\"dataframe\">\n",
       "  <thead>\n",
       "    <tr style=\"text-align: right;\">\n",
       "      <th></th>\n",
       "      <th>objID_3pi</th>\n",
       "      <th>raStack_3pi</th>\n",
       "      <th>decStack_3pi</th>\n",
       "      <th>primaryDetection_3pi</th>\n",
       "      <th>gKronMag_3pi</th>\n",
       "      <th>rKronMag_3pi</th>\n",
       "      <th>iKronMag_3pi</th>\n",
       "      <th>zKronMag_3pi</th>\n",
       "      <th>yKronMag_3pi</th>\n",
       "      <th>gKronMagErr_3pi</th>\n",
       "      <th>rKronMagErr_3pi</th>\n",
       "      <th>iKronMagErr_3pi</th>\n",
       "      <th>zKronMagErr_3pi</th>\n",
       "      <th>yKronMagErr_3pi</th>\n",
       "      <th>ps_score_3pi</th>\n",
       "      <th>SN_ra</th>\n",
       "      <th>SN_dec</th>\n",
       "      <th>sn_class</th>\n",
       "      <th>sn_redshift</th>\n",
       "      <th>ZTFID</th>\n",
       "    </tr>\n",
       "  </thead>\n",
       "  <tbody>\n",
       "    <tr>\n",
       "      <th>0</th>\n",
       "      <td>126681757766820931</td>\n",
       "      <td>175.77662082</td>\n",
       "      <td>15.56701789</td>\n",
       "      <td>1</td>\n",
       "      <td>16.0256</td>\n",
       "      <td>15.2881</td>\n",
       "      <td>14.9533</td>\n",
       "      <td>14.7114</td>\n",
       "      <td>14.5005</td>\n",
       "      <td>0.002978</td>\n",
       "      <td>0.001497</td>\n",
       "      <td>0.001272</td>\n",
       "      <td>0.001197</td>\n",
       "      <td>0.002235</td>\n",
       "      <td>0.1110298</td>\n",
       "      <td>175.776542</td>\n",
       "      <td>15.567139</td>\n",
       "      <td>NaN</td>\n",
       "      <td>NaN</td>\n",
       "      <td>NaN</td>\n",
       "    </tr>\n",
       "    <tr>\n",
       "      <th>1</th>\n",
       "      <td>148231465149294617</td>\n",
       "      <td>146.51493972</td>\n",
       "      <td>33.52836114</td>\n",
       "      <td>1</td>\n",
       "      <td>18.2387</td>\n",
       "      <td>17.9746</td>\n",
       "      <td>17.875</td>\n",
       "      <td>17.8532</td>\n",
       "      <td>17.7821</td>\n",
       "      <td>0.004157</td>\n",
       "      <td>0.004871</td>\n",
       "      <td>0.004281</td>\n",
       "      <td>0.014407</td>\n",
       "      <td>0.019814</td>\n",
       "      <td>0.021125</td>\n",
       "      <td>146.514792</td>\n",
       "      <td>33.528250</td>\n",
       "      <td>SN II</td>\n",
       "      <td>0.03800</td>\n",
       "      <td>ZTF18aacemcn</td>\n",
       "    </tr>\n",
       "    <tr>\n",
       "      <th>2</th>\n",
       "      <td>153731349546771375</td>\n",
       "      <td>134.95471695</td>\n",
       "      <td>38.10897029</td>\n",
       "      <td>1</td>\n",
       "      <td>18.7478</td>\n",
       "      <td>19.0585</td>\n",
       "      <td>18.6466</td>\n",
       "      <td>18.8301</td>\n",
       "      <td>18.6221</td>\n",
       "      <td>0.006392</td>\n",
       "      <td>0.009475</td>\n",
       "      <td>0.004919</td>\n",
       "      <td>0.017235</td>\n",
       "      <td>0.038667</td>\n",
       "      <td>0.01741071</td>\n",
       "      <td>134.954667</td>\n",
       "      <td>38.109056</td>\n",
       "      <td>SN II</td>\n",
       "      <td>0.07247</td>\n",
       "      <td>ZTF18aacnlxz</td>\n",
       "    </tr>\n",
       "    <tr>\n",
       "      <th>3</th>\n",
       "      <td>169101206490177628</td>\n",
       "      <td>120.64903126</td>\n",
       "      <td>50.9224606</td>\n",
       "      <td>1</td>\n",
       "      <td>16.5325</td>\n",
       "      <td>15.6522</td>\n",
       "      <td>15.2551</td>\n",
       "      <td>15.0064</td>\n",
       "      <td>14.7582</td>\n",
       "      <td>0.002335</td>\n",
       "      <td>0.002128</td>\n",
       "      <td>0.000867</td>\n",
       "      <td>0.001623</td>\n",
       "      <td>0.003512</td>\n",
       "      <td>0.07590476</td>\n",
       "      <td>120.648958</td>\n",
       "      <td>50.922528</td>\n",
       "      <td>SN Ia</td>\n",
       "      <td>0.05295</td>\n",
       "      <td>ZTF18aadlaxo</td>\n",
       "    </tr>\n",
       "    <tr>\n",
       "      <th>4</th>\n",
       "      <td>159661026075384557</td>\n",
       "      <td>102.60753619</td>\n",
       "      <td>43.05326583</td>\n",
       "      <td>1</td>\n",
       "      <td>nan</td>\n",
       "      <td>14.2309</td>\n",
       "      <td>13.166</td>\n",
       "      <td>12.9816</td>\n",
       "      <td>12.8047</td>\n",
       "      <td>nan</td>\n",
       "      <td>0.000836</td>\n",
       "      <td>0.000408</td>\n",
       "      <td>0.001003</td>\n",
       "      <td>0.001687</td>\n",
       "      <td>0.1546488</td>\n",
       "      <td>102.607542</td>\n",
       "      <td>43.053222</td>\n",
       "      <td>SN IIn</td>\n",
       "      <td>0.01885</td>\n",
       "      <td>ZTF18aadmssd</td>\n",
       "    </tr>\n",
       "  </tbody>\n",
       "</table>\n",
       "</div>"
      ],
      "text/plain": [
       "            objID_3pi   raStack_3pi decStack_3pi primaryDetection_3pi  \\\n",
       "0  126681757766820931  175.77662082  15.56701789                    1   \n",
       "1  148231465149294617  146.51493972  33.52836114                    1   \n",
       "2  153731349546771375  134.95471695  38.10897029                    1   \n",
       "3  169101206490177628  120.64903126   50.9224606                    1   \n",
       "4  159661026075384557  102.60753619  43.05326583                    1   \n",
       "\n",
       "  gKronMag_3pi rKronMag_3pi iKronMag_3pi zKronMag_3pi yKronMag_3pi  \\\n",
       "0      16.0256      15.2881      14.9533      14.7114      14.5005   \n",
       "1      18.2387      17.9746       17.875      17.8532      17.7821   \n",
       "2      18.7478      19.0585      18.6466      18.8301      18.6221   \n",
       "3      16.5325      15.6522      15.2551      15.0064      14.7582   \n",
       "4          nan      14.2309       13.166      12.9816      12.8047   \n",
       "\n",
       "  gKronMagErr_3pi rKronMagErr_3pi iKronMagErr_3pi zKronMagErr_3pi  \\\n",
       "0        0.002978        0.001497        0.001272        0.001197   \n",
       "1        0.004157        0.004871        0.004281        0.014407   \n",
       "2        0.006392        0.009475        0.004919        0.017235   \n",
       "3        0.002335        0.002128        0.000867        0.001623   \n",
       "4             nan        0.000836        0.000408        0.001003   \n",
       "\n",
       "  yKronMagErr_3pi ps_score_3pi       SN_ra     SN_dec sn_class  sn_redshift  \\\n",
       "0        0.002235    0.1110298  175.776542  15.567139      NaN          NaN   \n",
       "1        0.019814     0.021125  146.514792  33.528250    SN II      0.03800   \n",
       "2        0.038667   0.01741071  134.954667  38.109056    SN II      0.07247   \n",
       "3        0.003512   0.07590476  120.648958  50.922528    SN Ia      0.05295   \n",
       "4        0.001687    0.1546488  102.607542  43.053222   SN IIn      0.01885   \n",
       "\n",
       "          ZTFID  \n",
       "0           NaN  \n",
       "1  ZTF18aacemcn  \n",
       "2  ZTF18aacnlxz  \n",
       "3  ZTF18aadlaxo  \n",
       "4  ZTF18aadmssd  "
      ]
     },
     "execution_count": 2,
     "metadata": {},
     "output_type": "execute_result"
    }
   ],
   "source": [
    "# Load in bts data\n",
    "bts_hosts = ascii.read('/Users/adamboesky/Research/ay98/clean_data/bts_hosts.ecsv')\n",
    "bts_df = bts_hosts.to_pandas()\n",
    "bts_df.head()"
   ]
  },
  {
   "cell_type": "code",
   "execution_count": 12,
   "metadata": {},
   "outputs": [
    {
     "data": {
      "text/plain": [
       "(array([[ 1.41175716,  2.78458193,  3.79035598,  4.73630869,  5.75174998],\n",
       "        [ 0.18387386,  0.23450926,  0.25703958,  0.26225272,  0.28000127],\n",
       "        [ 0.11504825,  0.08641716,  0.12628739,  0.10664979,  0.12916951],\n",
       "        ...,\n",
       "        [ 3.76946747,  6.12801754,  7.62500267,  9.22486459, 10.88930093],\n",
       "        [ 1.04327788, 34.86582934, 40.15318502, 12.13053625, 24.01928084],\n",
       "        [ 1.29741824,  3.02691343,  4.44344695,  6.23907204,  5.06944015]]),\n",
       " array([ 0.51487243,  0.59790783,  0.33839217, ...,  0.80115689,\n",
       "        26.58843375,  6.92645833]))"
      ]
     },
     "execution_count": 12,
     "metadata": {},
     "output_type": "execute_result"
    }
   ],
   "source": [
    "def get_angular_separation(ra1, dec1, ra2, dec2, unit1='deg', unit2='deg'):\n",
    "    \"\"\"Function to calculate angular separation in arcseconds\"\"\"\n",
    "    coord1 = SkyCoord(ra1, dec1, unit=unit1)\n",
    "    coord2 = SkyCoord(ra2, dec2, unit=unit2)\n",
    "    return coord1.separation(coord2).arcsec\n",
    "\n",
    "def ab_mag_to_flux(AB_mag: np.ndarray) -> np.ndarray:\n",
    "    \"\"\"Convert AB magnitude to flux in mJy\"\"\"\n",
    "    return 10**((AB_mag - 8.9) / -2.5) * 1000\n",
    "\n",
    "ab_magerr_to_ferr = lambda sigma_m, f: np.abs(f * np.log(10) * (sigma_m / 2.5))  # transformation on the error of a magnitude turned into flux\n",
    "\n",
    "# Add angular separation and grib data\n",
    "bts_df['angular_separation_arcsec'] = get_angular_separation(bts_df['raStack_3pi'], bts_df['decStack_3pi'], bts_df['SN_ra'], bts_df['SN_dec'], unit1='deg', unit2='deg')\n",
    "grizy = bts_df[['gKronMag_3pi', 'rKronMag_3pi', 'iKronMag_3pi', 'zKronMag_3pi', 'yKronMag_3pi']].to_numpy().astype(float)\n",
    "grizy_err = bts_df[['gKronMagErr_3pi', 'rKronMagErr_3pi', 'iKronMagErr_3pi', 'zKronMagErr_3pi', 'yKronMagErr_3pi']].to_numpy().astype(float)\n",
    "angular_seps = bts_df['angular_separation_arcsec'].to_numpy().astype(float)\n",
    "\n",
    "# Convert the grizy data to mJy\n",
    "grizy = ab_mag_to_flux(grizy)\n",
    "grizy_err = ab_magerr_to_ferr(grizy_err, grizy)\n",
    "\n",
    "grizy, angular_seps"
   ]
  },
  {
   "cell_type": "code",
   "execution_count": 13,
   "metadata": {},
   "outputs": [],
   "source": [
    "nan_mask = ~(np.sum(np.isnan(grizy), axis=1)==0)"
   ]
  },
  {
   "cell_type": "markdown",
   "metadata": {},
   "source": [
    "# Use the SPLASH pipeline"
   ]
  },
  {
   "cell_type": "code",
   "execution_count": 14,
   "metadata": {},
   "outputs": [],
   "source": [
    "import importlib\n",
    "import SPLASH.pipeline\n",
    "importlib.reload(SPLASH.pipeline)\n",
    "from SPLASH.pipeline import Splash_Pipeline\n",
    "\n",
    "# Load pipeline object\n",
    "pipeline = Splash_Pipeline(pipeline_version='weighted_full_band',   # the default version of the pipeline\n",
    "                           pre_transformed=False,                   # whether the given data is pre-logged and nnormalized\n",
    "                           within_4sigma=True,                      # whether we only want to classify objects with properties within 4-sigma of the training set\n",
    "                           nan_thresh_ratio=1.0)                    # to keep this notebook concise, we are allowing the pipeline to imput any num of nans"
   ]
  },
  {
   "cell_type": "code",
   "execution_count": 15,
   "metadata": {},
   "outputs": [
    {
     "name": "stdout",
     "output_type": "stream",
     "text": [
      "[3.83505654 3.67871757 3.96292865 3.61150645 3.47098468] [1.16519241 1.09036387 1.1316336  1.08615098 1.04548113]\n"
     ]
    }
   ],
   "source": [
    "# Predict the classes. n_resamples is the number of boostraps for getting the median predicted host properties.\n",
    "classes = pipeline.predict_classes(grizy, angular_seps, grizy_err, n_resamples=50)"
   ]
  },
  {
   "cell_type": "code",
   "execution_count": 16,
   "metadata": {},
   "outputs": [
    {
     "name": "stdout",
     "output_type": "stream",
     "text": [
      "Number of each class:\n",
      " 0    3921\n",
      " 4     375\n",
      " 1     156\n",
      " 3      40\n",
      " 2       3\n",
      "-1       2\n",
      "Name: count, dtype: int64\n",
      "\n",
      "The class labels are 0=Ia 1=Ib/c 2=SLSN 3=IIn 4=II (P/L) -1=Outside train properties 4 sigma.\n"
     ]
    }
   ],
   "source": [
    "print(f'Number of each class:\\n{pd.Series(classes).value_counts()}\\n\\nThe class labels are 0=Ia 1=Ib/c 2=SLSN 3=IIn 4=II (P/L) -1=Outside train properties 4 sigma.')"
   ]
  },
  {
   "cell_type": "code",
   "execution_count": 17,
   "metadata": {},
   "outputs": [
    {
     "name": "stdout",
     "output_type": "stream",
     "text": [
      "[3.83505654 3.67871757 3.96292865 3.61150645 3.47098468] [1.16519241 1.09036387 1.1316336  1.08615098 1.04548113]\n"
     ]
    },
    {
     "data": {
      "text/plain": [
       "(array([[11.03105525, -0.37596385,  0.09514158],\n",
       "        [ 9.57517772, -0.7333718 ,  0.10061707],\n",
       "        [ 8.96926393, -0.79599632,  0.09335136],\n",
       "        ...,\n",
       "        [10.75070607, -0.04103815,  0.03659505],\n",
       "        [10.91012792, -2.31738271, -0.06197032],\n",
       "        [10.98826124, -2.10289793,  0.10901751]]),\n",
       " array([[4.84805576e-03, 1.13760916e-03, 3.56388281e-04],\n",
       "        [4.91402535e-02, 8.66192764e-02, 5.97183284e-03],\n",
       "        [6.55539605e-02, 1.31478993e-01, 8.16184667e-03],\n",
       "        ...,\n",
       "        [3.69723008e-03, 4.42506516e-04, 3.71092049e-04],\n",
       "        [7.33016208e-04, 3.32646862e-04, 2.58938597e-05],\n",
       "        [2.45852021e-03, 7.63355354e-02, 1.14955794e-03]]))"
      ]
     },
     "execution_count": 17,
     "metadata": {},
     "output_type": "execute_result"
    }
   ],
   "source": [
    "# We can also take a look at the predicted host properties of each supernova\n",
    "props, props_err = pipeline.predict_host_properties(grizy, grizy_err, n_resamples=50, return_normalized=False)  # return_normalized will return the properties normalized with the train mean and std\n",
    "props, props_err  # in order (log(mass), log(sfr), redshift)"
   ]
  },
  {
   "cell_type": "code",
   "execution_count": null,
   "metadata": {},
   "outputs": [],
   "source": []
  }
 ],
 "metadata": {
  "kernelspec": {
   "display_name": "ay98_updated",
   "language": "python",
   "name": "python3"
  },
  "language_info": {
   "codemirror_mode": {
    "name": "ipython",
    "version": 3
   },
   "file_extension": ".py",
   "mimetype": "text/x-python",
   "name": "python",
   "nbconvert_exporter": "python",
   "pygments_lexer": "ipython3",
   "version": "3.11.5"
  }
 },
 "nbformat": 4,
 "nbformat_minor": 2
}
