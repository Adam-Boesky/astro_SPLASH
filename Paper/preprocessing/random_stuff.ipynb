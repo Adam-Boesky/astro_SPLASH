{
 "cells": [
  {
   "cell_type": "code",
   "execution_count": null,
   "metadata": {},
   "outputs": [],
   "source": [
    "import os\n",
    "import sys\n",
    "\n",
    "sys.path.append('/Users/adamboesky/Research/ay98/Weird_Galaxies')\n",
    "\n",
    "import pickle\n",
    "from pathlib import Path\n",
    "from typing import Callable, List, Optional, Union\n",
    "\n",
    "import matplotlib.pyplot as plt\n",
    "import numpy as np\n",
    "from astropy.io import fits\n",
    "from sklearn.impute import KNNImputer"
   ]
  },
  {
   "cell_type": "code",
   "execution_count": 4,
   "metadata": {},
   "outputs": [],
   "source": [
    "PATH_TO_DATA = '/Volumes/T7/ay_98_data/Zou_data'\n",
    "PATH_TO_TRAINING_DATA = 'Volumes/T7/ay_98_data/pickled_data'"
   ]
  },
  {
   "cell_type": "code",
   "execution_count": 8,
   "metadata": {},
   "outputs": [],
   "source": [
    "def ab_mag_to_flux(AB_mag: np.ndarray) -> np.ndarray:\n",
    "    \"\"\"Convert AB magnitude to flux in units of mJy\"\"\"\n",
    "    return 10**((AB_mag - 8.9) / -2.5) * 1000\n",
    "\n",
    "\n",
    "def get_photometry_np_from_fits(filepath: Union[str, Path], columns: list, transforms: List[Union[None, Callable]], vector_key: Optional[str] = None):\n",
    "    \"\"\"Get given photometry fields in a numpy array from fits file path. Apply given transforms to the data. Return a vector of a column if given.\"\"\"\n",
    "    fits_data = np.array(fits.open(os.path.join(PATH_TO_DATA, filepath))[1].data)\n",
    "    print('Importing %s', filepath)\n",
    "\n",
    "    # # Add ids\n",
    "    n = len(fits_data)\n",
    "    # fits_data[vector_key] = np.arange(0, n, 1, dtype=int)  # unique id values\n",
    "\n",
    "    # Define new dtype with additional column for unique IDs\n",
    "    new_dtype = np.dtype(fits_data.dtype.descr + [(vector_key, int)])\n",
    "    new_data = np.zeros(len(fits_data), dtype=new_dtype)\n",
    "    for name in fits_data.dtype.names:\n",
    "        new_data[name] = fits_data[name]\n",
    "    new_data[vector_key] = np.arange(len(fits_data))\n",
    "    fits_data = new_data\n",
    "\n",
    "\n",
    "\n",
    "    # Drop any severely Nan columns (>50%)\n",
    "    good_columns = []\n",
    "    good_transforms = []\n",
    "    for col, trans in zip(columns, transforms):\n",
    "        num_nans = np.count_nonzero(np.isnan(fits_data[col]))\n",
    "        if num_nans > 0.5 * n:\n",
    "            print('Dropping column %s with %i / %i = %.2f%% NaNs', col, num_nans, n, (num_nans / n) * 100)\n",
    "        else:\n",
    "            print('Keeping column %s with %i / %i = %.2f%% NaNs', col, num_nans, n, (num_nans / n) * 100)\n",
    "            good_columns.append(col)\n",
    "            good_transforms.append(trans)\n",
    "    \n",
    "    # Drop severly Nan rows (>50%)\n",
    "    temp_arr = np.array([fits_data[col] for col in good_columns]).T\n",
    "    nan_mask = np.sum(np.isnan(temp_arr), axis=1) <= temp_arr.shape[1] / 2\n",
    "    fits_data = fits_data[nan_mask]\n",
    "    print('Dropped %i rows because more than half of the values were NaN', np.sum(~nan_mask))\n",
    "\n",
    "    # Transform the data\n",
    "    out_arr = np.array([fits_data[col] for col in good_columns]).T\n",
    "\n",
    "    return out_arr"
   ]
  },
  {
   "cell_type": "code",
   "execution_count": 7,
   "metadata": {},
   "outputs": [],
   "source": [
    "ALL_SURVEY_KEYS = {\n",
    "    'es1': [\n",
    "        'f_MIPS24',\n",
    "        'f_MIPS70',\n",
    "        'f_MIPS160',\n",
    "        'f_PACS100',\n",
    "        'f_PACS160',\n",
    "        'f_SPIRE250',\n",
    "        'f_SPIRE350',\n",
    "        'f_SPIRE500',\n",
    "        'mag_U_VOICE',\n",
    "        'mag_G_DES',\n",
    "        'mag_R_DES',\n",
    "        'mag_I_DES',\n",
    "        'mag_Z_DES',\n",
    "        'mag_Y_DES',\n",
    "        'mag_Z_VIDEO',\n",
    "        'mag_Y_VIDEO',\n",
    "        'mag_J_VIDEO',\n",
    "        'mag_H_VIDEO',\n",
    "        'mag_Ks_VIDEO',\n",
    "        'mag_CH1',\n",
    "        'mag_CH2'],\n",
    "    'wcdfs': [\n",
    "        'f_MIPS24',\n",
    "        'f_MIPS70',\n",
    "        'f_MIPS160',\n",
    "        'f_PACS100',\n",
    "        'f_PACS160',\n",
    "        'f_SPIRE250',\n",
    "        'f_SPIRE350',\n",
    "        'f_SPIRE500',\n",
    "        # 'mag_U_VOICE',  # over 50% nans\n",
    "        # 'mag_G_VOICE',  # over 50% nans\n",
    "        'mag_R_VOICE',\n",
    "        # 'mag_I_VOICE',  # over 50% nans\n",
    "        'mag_G_HSC',\n",
    "        # 'mag_R_HSC',    # over 50% nans\n",
    "        'mag_I_HSC',\n",
    "        'mag_Z_HSC',\n",
    "        # 'mag_Z_VIDEO',  # over 50% nans\n",
    "        'mag_Y_VIDEO',\n",
    "        'mag_J_VIDEO',\n",
    "        'mag_H_VIDEO',\n",
    "        'mag_Ks_VIDEO',\n",
    "        'mag_CH1',\n",
    "        'mag_CH2'\n",
    "    ],\n",
    "    'xmmlss': [\n",
    "        'f_MIPS24',\n",
    "        'f_MIPS70',\n",
    "        'f_MIPS160',\n",
    "        'f_PACS100',\n",
    "        'f_PACS160',\n",
    "        'f_SPIRE250',\n",
    "        'f_SPIRE350',\n",
    "        'f_SPIRE500',\n",
    "        'mag_U_CFHT',\n",
    "        'mag_G_HSC',\n",
    "        'mag_R_HSC',\n",
    "        'mag_I_HSC',\n",
    "        'mag_Z_HSC',\n",
    "        'mag_Y_HSC',\n",
    "        'mag_Z_VIDEO',\n",
    "        'mag_Y_VIDEO',\n",
    "        'mag_J_VIDEO',\n",
    "        'mag_H_VIDEO',\n",
    "        'mag_Ks_VIDEO',\n",
    "        'mag_CH1',\n",
    "        'mag_CH2'\n",
    "    ]\n",
    "}"
   ]
  },
  {
   "cell_type": "code",
   "execution_count": 9,
   "metadata": {},
   "outputs": [
    {
     "name": "stdout",
     "output_type": "stream",
     "text": [
      "Importing %s /Volumes/T7/ay_98_data/Zou_data/photometry/es1_photcat.v1.fits\n",
      "Keeping column %s with %i / %i = %.2f%% NaNs f_MIPS24 31174 826242 3.772986606829476\n",
      "Keeping column %s with %i / %i = %.2f%% NaNs f_MIPS70 81233 826242 9.831623180617784\n",
      "Keeping column %s with %i / %i = %.2f%% NaNs f_MIPS160 46940 826242 5.681144265239483\n",
      "Keeping column %s with %i / %i = %.2f%% NaNs f_PACS100 41906 826242 5.071879667216143\n",
      "Keeping column %s with %i / %i = %.2f%% NaNs f_PACS160 41800 826242 5.0590504961016265\n",
      "Keeping column %s with %i / %i = %.2f%% NaNs f_SPIRE250 0 826242 0.0\n",
      "Keeping column %s with %i / %i = %.2f%% NaNs f_SPIRE350 3 826242 0.0003630897485240402\n",
      "Keeping column %s with %i / %i = %.2f%% NaNs f_SPIRE500 20 826242 0.002420598323493601\n",
      "Keeping column %s with %i / %i = %.2f%% NaNs mag_U_VOICE 208307 826242 25.211378748599078\n",
      "Keeping column %s with %i / %i = %.2f%% NaNs mag_G_DES 79968 826242 9.678520336656815\n",
      "Keeping column %s with %i / %i = %.2f%% NaNs mag_R_DES 50464 826242 6.107653689839054\n",
      "Keeping column %s with %i / %i = %.2f%% NaNs mag_I_DES 56789 826242 6.873167909643906\n",
      "Keeping column %s with %i / %i = %.2f%% NaNs mag_Z_DES 73100 826242 8.847286872369112\n",
      "Keeping column %s with %i / %i = %.2f%% NaNs mag_Y_DES 204740 826242 24.779665037603994\n",
      "Keeping column %s with %i / %i = %.2f%% NaNs mag_Z_VIDEO 23906 826242 2.8933411760719014\n",
      "Keeping column %s with %i / %i = %.2f%% NaNs mag_Y_VIDEO 27849 826242 3.3705621355486652\n",
      "Keeping column %s with %i / %i = %.2f%% NaNs mag_J_VIDEO 28485 826242 3.4475371622357613\n",
      "Keeping column %s with %i / %i = %.2f%% NaNs mag_H_VIDEO 34896 826242 4.223459954831635\n",
      "Keeping column %s with %i / %i = %.2f%% NaNs mag_Ks_VIDEO 36417 826242 4.407546457333324\n",
      "Keeping column %s with %i / %i = %.2f%% NaNs mag_CH1 61225 826242 7.410056617794787\n",
      "Keeping column %s with %i / %i = %.2f%% NaNs mag_CH2 86959 826242 10.524640480634002\n",
      "Dropped %i rows because more than half of the values were NaN 3020\n",
      "Importing %s /Volumes/T7/ay_98_data/Zou_data/photometry/wcdfs_photcat.v1.fits\n",
      "Keeping column %s with %i / %i = %.2f%% NaNs f_MIPS24 9863 799607 1.2334809475154669\n",
      "Keeping column %s with %i / %i = %.2f%% NaNs f_MIPS70 10366 799607 1.2963868500400821\n",
      "Keeping column %s with %i / %i = %.2f%% NaNs f_MIPS160 10032 799607 1.2546163302722462\n",
      "Keeping column %s with %i / %i = %.2f%% NaNs f_PACS100 574 799607 0.07178526451119112\n",
      "Keeping column %s with %i / %i = %.2f%% NaNs f_PACS160 589 799607 0.07366118605765082\n",
      "Keeping column %s with %i / %i = %.2f%% NaNs f_SPIRE250 0 799607 0.0\n",
      "Keeping column %s with %i / %i = %.2f%% NaNs f_SPIRE350 0 799607 0.0\n",
      "Keeping column %s with %i / %i = %.2f%% NaNs f_SPIRE500 0 799607 0.0\n",
      "Keeping column %s with %i / %i = %.2f%% NaNs mag_R_VOICE 156970 799607 19.63089367651859\n",
      "Keeping column %s with %i / %i = %.2f%% NaNs mag_G_HSC 122443 799607 15.312897460877656\n",
      "Keeping column %s with %i / %i = %.2f%% NaNs mag_I_HSC 118371 799607 14.803647291732064\n",
      "Keeping column %s with %i / %i = %.2f%% NaNs mag_Z_HSC 111596 799607 13.956356059914432\n",
      "Keeping column %s with %i / %i = %.2f%% NaNs mag_Y_VIDEO 20803 799607 2.6016530620667404\n",
      "Keeping column %s with %i / %i = %.2f%% NaNs mag_J_VIDEO 16075 799607 2.0103625906226434\n",
      "Keeping column %s with %i / %i = %.2f%% NaNs mag_H_VIDEO 15405 799607 1.9265714282141102\n",
      "Keeping column %s with %i / %i = %.2f%% NaNs mag_Ks_VIDEO 15442 799607 1.9311987013620442\n",
      "Keeping column %s with %i / %i = %.2f%% NaNs mag_CH1 34240 799607 4.2821035833853385\n",
      "Keeping column %s with %i / %i = %.2f%% NaNs mag_CH2 43682 799607 5.462933666163503\n",
      "Dropped %i rows because more than half of the values were NaN 3317\n",
      "Importing %s /Volumes/T7/ay_98_data/Zou_data/photometry/xmmlss_photcat.v1.fits\n",
      "Keeping column %s with %i / %i = %.2f%% NaNs f_MIPS24 92635 1247954 7.422949884370738\n",
      "Keeping column %s with %i / %i = %.2f%% NaNs f_MIPS70 79062 1247954 6.335329667599927\n",
      "Keeping column %s with %i / %i = %.2f%% NaNs f_MIPS160 73117 1247954 5.8589499292441864\n",
      "Keeping column %s with %i / %i = %.2f%% NaNs f_PACS100 0 1247954 0.0\n",
      "Keeping column %s with %i / %i = %.2f%% NaNs f_PACS160 0 1247954 0.0\n",
      "Keeping column %s with %i / %i = %.2f%% NaNs f_SPIRE250 0 1247954 0.0\n",
      "Keeping column %s with %i / %i = %.2f%% NaNs f_SPIRE350 0 1247954 0.0\n",
      "Keeping column %s with %i / %i = %.2f%% NaNs f_SPIRE500 0 1247954 0.0\n",
      "Keeping column %s with %i / %i = %.2f%% NaNs mag_U_CFHT 232829 1247954 18.65685754442872\n",
      "Keeping column %s with %i / %i = %.2f%% NaNs mag_G_HSC 45138 1247954 3.6169602405216863\n",
      "Keeping column %s with %i / %i = %.2f%% NaNs mag_R_HSC 35118 1247954 2.8140460305427926\n",
      "Keeping column %s with %i / %i = %.2f%% NaNs mag_I_HSC 34805 1247954 2.788964977875787\n",
      "Keeping column %s with %i / %i = %.2f%% NaNs mag_Z_HSC 42098 1247954 3.37336151813288\n",
      "Keeping column %s with %i / %i = %.2f%% NaNs mag_Y_HSC 48815 1247954 3.911602510989989\n",
      "Keeping column %s with %i / %i = %.2f%% NaNs mag_Z_VIDEO 342442 1247954 27.440274240877464\n",
      "Keeping column %s with %i / %i = %.2f%% NaNs mag_Y_VIDEO 340098 1247954 27.252446804930308\n",
      "Keeping column %s with %i / %i = %.2f%% NaNs mag_J_VIDEO 35572 1247954 2.8504255765837523\n",
      "Keeping column %s with %i / %i = %.2f%% NaNs mag_H_VIDEO 40778 1247954 3.2675883886745827\n",
      "Keeping column %s with %i / %i = %.2f%% NaNs mag_Ks_VIDEO 54163 1247954 4.340143947613454\n",
      "Keeping column %s with %i / %i = %.2f%% NaNs mag_CH1 64689 1247954 5.183604523884695\n",
      "Keeping column %s with %i / %i = %.2f%% NaNs mag_CH2 99419 1247954 7.966559664859442\n",
      "Dropped %i rows because more than half of the values were NaN 9384\n"
     ]
    },
    {
     "data": {
      "text/plain": [
       "[array([[2.68632848e-01, 1.05767066e+01, 9.04286618e+01, ...,\n",
       "         2.56233122e+01, 2.38144813e+01, 2.50858675e+01],\n",
       "        [1.58510389e-02, 8.35253251e+00, 1.28892161e+02, ...,\n",
       "         2.44108874e+01, 2.37082454e+01, 2.35384280e+01],\n",
       "        [4.49594727e-01, 1.56673960e+01, 1.18284461e+02, ...,\n",
       "         2.70929693e+01,            nan,            nan],\n",
       "        ...,\n",
       "        [2.56668121e-01, 1.10953788e+01, 9.38948674e+01, ...,\n",
       "         2.03581781e+01, 2.01139074e+01, 2.03834055e+01],\n",
       "        [6.86741829e-03, 7.89155099e+00, 1.19362987e+02, ...,\n",
       "         2.16538941e+01, 2.17386108e+01, 2.15271196e+01],\n",
       "        [2.83481231e-01, 5.27582248e+00, 5.84155325e+01, ...,\n",
       "         2.43511406e+01, 2.63695762e+01,            nan]]),\n",
       " array([[2.51151566e-01, 9.70120994e+00, 7.35109622e+01, ...,\n",
       "         1.94983959e+01, 1.97445965e+01, 2.00702496e+01],\n",
       "        [2.32708980e-01, 3.93372923e+00, 5.39311986e+01, ...,\n",
       "         1.95788002e+01, 1.76006508e+01, 1.80693817e+01],\n",
       "        [9.24840317e-02, 1.05626784e+01, 8.49712262e+01, ...,\n",
       "         2.04333172e+01, 2.08099880e+01, 2.10582085e+01],\n",
       "        ...,\n",
       "        [3.02659359e-02, 9.61858722e+00, 7.64847915e+01, ...,\n",
       "         2.01703815e+01, 2.08092728e+01, 2.10942783e+01],\n",
       "        [3.14218319e-01, 1.05130485e+01, 6.06786338e+01, ...,\n",
       "         1.60310841e+01, 1.70057220e+01, 1.75698032e+01],\n",
       "        [6.97627694e-02, 7.23333762e+00, 6.40659432e+01, ...,\n",
       "         2.27447262e+01, 2.23226204e+01, 2.28491955e+01]]),\n",
       " array([[7.37254486e-02, 4.37404658e+00, 8.64144488e+01, ...,\n",
       "         2.04177399e+01, 2.10194302e+01, 2.11093845e+01],\n",
       "        [6.27428703e-02, 3.13300144e+00, 2.52767830e+01, ...,\n",
       "         2.42846642e+01, 2.40768833e+01, 2.44877949e+01],\n",
       "        [1.93242683e-02, 1.25160468e+01, 7.12873855e+01, ...,\n",
       "         2.34093513e+01, 2.27862835e+01, 2.29339523e+01],\n",
       "        ...,\n",
       "        [8.17632692e-01, 9.89485155e+00, 9.12565851e+01, ...,\n",
       "         1.94355869e+01, 1.90603447e+01, 1.93669395e+01],\n",
       "        [9.68463063e-04, 1.43557202e+01, 9.12025156e+01, ...,\n",
       "         2.25864964e+01, 2.23652935e+01, 2.28410778e+01],\n",
       "        [1.60117526e-01, 1.18770854e+01, 1.07285468e+02, ...,\n",
       "         2.40317516e+01, 2.76319332e+01,            nan]])]"
      ]
     },
     "execution_count": 9,
     "metadata": {},
     "output_type": "execute_result"
    }
   ],
   "source": [
    "cats = []\n",
    "in_transforms = [None for _ in range(8)] + [ab_mag_to_flux for _ in range(13)]\n",
    "for survey in ['es1', 'wcdfs', 'xmmlss']:\n",
    "    cats.append(\n",
    "        get_photometry_np_from_fits(\n",
    "            os.path.join(PATH_TO_DATA, f'photometry/{survey}_photcat.v1.fits'),\n",
    "            ALL_SURVEY_KEYS[survey],\n",
    "            transforms=in_transforms,\n",
    "            vector_key='Gal_ID'\n",
    "        )\n",
    "    )\n",
    "cats"
   ]
  },
  {
   "cell_type": "code",
   "execution_count": 18,
   "metadata": {},
   "outputs": [
    {
     "data": {
      "text/plain": [
       "(823222, 21)"
      ]
     },
     "execution_count": 18,
     "metadata": {},
     "output_type": "execute_result"
    }
   ],
   "source": [
    "cats[0].shape"
   ]
  },
  {
   "cell_type": "code",
   "execution_count": 21,
   "metadata": {},
   "outputs": [
    {
     "data": {
      "text/plain": [
       "array([3.61409195e-02, 9.66458622e-02, 5.52390485e-02, 4.95650019e-02,\n",
       "       4.94447427e-02, 0.00000000e+00, 2.42947832e-06, 1.70063482e-05,\n",
       "       2.50241126e-01, 9.40851921e-02, 5.83026207e-02, 6.59068878e-02,\n",
       "       8.58018858e-02, 2.45750235e-01, 2.72866857e-02, 3.12783186e-02,\n",
       "       3.18468165e-02, 3.94182857e-02, 4.15805214e-02, 7.16538188e-02,\n",
       "       1.02922419e-01])"
      ]
     },
     "execution_count": 21,
     "metadata": {},
     "output_type": "execute_result"
    }
   ],
   "source": [
    "np.sum(np.isnan(cats[0]), axis=0) / cats[0].shape[0]"
   ]
  },
  {
   "cell_type": "code",
   "execution_count": 30,
   "metadata": {},
   "outputs": [
    {
     "data": {
      "text/plain": [
       "array(['G', 'I', 'R', 'Y', 'Z'], dtype='<U1')"
      ]
     },
     "execution_count": 30,
     "metadata": {},
     "output_type": "execute_result"
    }
   ],
   "source": [
    "grizy_props = {k: 0 for k in 'GRIZY'}\n",
    "np.intersect1d([k for k in 'GRIZY'], list(grizy_props.keys()))"
   ]
  },
  {
   "cell_type": "code",
   "execution_count": 42,
   "metadata": {},
   "outputs": [
    {
     "name": "stdout",
     "output_type": "stream",
     "text": [
      "es1 (823222)\n",
      "\tf_MIPS24: 3.61\n",
      "\tf_MIPS70: 9.66\n",
      "\tf_MIPS160: 5.52\n",
      "\tf_PACS100: 4.96\n",
      "\tf_PACS160: 4.94\n",
      "\tf_SPIRE250: 0.00\n",
      "\tf_SPIRE350: 0.00\n",
      "\tf_SPIRE500: 0.00\n",
      "\tmag_U_VOICE: 25.02\n",
      "\tmag_G_DES: 9.41\n",
      "\tmag_R_DES: 5.83\n",
      "\tmag_I_DES: 6.59\n",
      "\tmag_Z_DES: 8.58\n",
      "\tmag_Y_DES: 24.58\n",
      "\tmag_Z_VIDEO: 2.73\n",
      "\tmag_Y_VIDEO: 3.13\n",
      "\tmag_J_VIDEO: 3.18\n",
      "\tmag_H_VIDEO: 3.94\n",
      "\tmag_Ks_VIDEO: 4.16\n",
      "\tmag_CH1: 7.17\n",
      "\tmag_CH2: 10.29\n",
      "wcdfs (796290)\n",
      "\tf_MIPS24: 1.22\n",
      "\tf_MIPS70: 1.29\n",
      "\tf_MIPS160: 1.24\n",
      "\tf_PACS100: 0.07\n",
      "\tf_PACS160: 0.07\n",
      "\tf_SPIRE250: 0.00\n",
      "\tf_SPIRE350: 0.00\n",
      "\tf_SPIRE500: 0.00\n",
      "\tmag_R_VOICE: 19.30\n",
      "\tmag_G_HSC: 14.96\n",
      "\tmag_I_HSC: 14.45\n",
      "\tmag_Z_HSC: 13.60\n",
      "\tmag_Y_VIDEO: 2.20\n",
      "\tmag_J_VIDEO: 1.61\n",
      "\tmag_H_VIDEO: 1.52\n",
      "\tmag_Ks_VIDEO: 1.53\n",
      "\tmag_CH1: 3.89\n",
      "\tmag_CH2: 5.07\n",
      "xmmlss (1238570)\n",
      "\tf_MIPS24: 7.35\n",
      "\tf_MIPS70: 6.26\n",
      "\tf_MIPS160: 5.78\n",
      "\tf_PACS100: 0.00\n",
      "\tf_PACS160: 0.00\n",
      "\tf_SPIRE250: 0.00\n",
      "\tf_SPIRE350: 0.00\n",
      "\tf_SPIRE500: 0.00\n",
      "\tmag_U_CFHT: 18.06\n",
      "\tmag_G_HSC: 2.92\n",
      "\tmag_R_HSC: 2.11\n",
      "\tmag_I_HSC: 2.09\n",
      "\tmag_Z_HSC: 2.68\n",
      "\tmag_Y_HSC: 3.23\n",
      "\tmag_Z_VIDEO: 26.97\n",
      "\tmag_Y_VIDEO: 26.76\n",
      "\tmag_J_VIDEO: 2.17\n",
      "\tmag_H_VIDEO: 2.58\n",
      "\tmag_Ks_VIDEO: 3.66\n",
      "\tmag_CH1: 4.53\n",
      "\tmag_CH2: 7.33\n",
      "{'G': array([[0.08143958]]), 'R': array([[0.0797129]]), 'I': array([[0.0682958]]), 'Z': array([[0.19891242]]), 'Y': array([[0.21589933]])}\n"
     ]
    }
   ],
   "source": [
    "grizy_props = {k: 0 for k in 'GRIZY'}\n",
    "for i, survey in enumerate(['es1', 'wcdfs', 'xmmlss']):\n",
    "    survey_keys = ALL_SURVEY_KEYS[survey]\n",
    "    print(f'{survey} ({cats[i].shape[0]})')\n",
    "\n",
    "    for k, pct in zip(survey_keys, np.sum(np.isnan(cats[i]), axis=0) / cats[i].shape[0]):\n",
    "        print(f'\\t{k}: {pct * 100:.2f}')\n",
    "\n",
    "        potential_filter = np.intersect1d(k.split('_'), list(grizy_props.keys()))\n",
    "        if len(potential_filter) > 0:\n",
    "            grizy_props[potential_filter[0]] += np.sum(np.isnan(cats[i][:, np.where(np.array(survey_keys) == k)]), axis=0)\n",
    "\n",
    "for k, v in grizy_props.items():\n",
    "    grizy_props[k] = v / np.sum([len(cats[i]) for i in range(3)])\n",
    "print(grizy_props)"
   ]
  },
  {
   "cell_type": "code",
   "execution_count": 44,
   "metadata": {},
   "outputs": [
    {
     "name": "stdout",
     "output_type": "stream",
     "text": [
      "dict_keys(['train', 'test'])\n"
     ]
    }
   ],
   "source": [
    "with open('/Users/adamboesky/Research/ay98/Weird_Galaxies/Paper/final_train_history.pkl', 'rb') as file:\n",
    "    train_history = pickle.load(file)\n",
    "\n",
    "print(train_history.keys())"
   ]
  },
  {
   "cell_type": "code",
   "execution_count": 47,
   "metadata": {},
   "outputs": [
    {
     "data": {
      "text/plain": [
       "769"
      ]
     },
     "execution_count": 47,
     "metadata": {},
     "output_type": "execute_result"
    }
   ],
   "source": [
    "len(train_history['test'])"
   ]
  },
  {
   "cell_type": "code",
   "execution_count": 48,
   "metadata": {},
   "outputs": [
    {
     "data": {
      "text/plain": [
       "(0.9212638147711316, 0.9439915261688758)"
      ]
     },
     "execution_count": 48,
     "metadata": {},
     "output_type": "execute_result"
    }
   ],
   "source": [
    "np.min(train_history['test']), train_history['test'][-1]"
   ]
  },
  {
   "cell_type": "code",
   "execution_count": null,
   "metadata": {},
   "outputs": [
    {
     "data": {
      "text/plain": [
       "<matplotlib.legend.Legend at 0x12c08bf20>"
      ]
     },
     "execution_count": 46,
     "metadata": {},
     "output_type": "execute_result"
    },
    {
     "data": {
      "image/png": "[encoded data removed]",
      "text/plain": [
       "<Figure size 640x480 with 1 Axes>"
      ]
     },
     "metadata": {},
     "output_type": "display_data"
    }
   ],
   "source": [
    "plt.plot(train_history['train'], label='train')\n",
    "plt.plot(train_history['test'], label='test')"
   ]
  },
  {
   "cell_type": "code",
   "execution_count": null,
   "metadata": {},
   "outputs": [],
   "source": []
  }
 ],
 "metadata": {
  "kernelspec": {
   "display_name": "ay98_newskl",
   "language": "python",
   "name": "python3"
  },
  "language_info": {
   "codemirror_mode": {
    "name": "ipython",
    "version": 3
   },
   "file_extension": ".py",
   "mimetype": "text/x-python",
   "name": "python",
   "nbconvert_exporter": "python",
   "pygments_lexer": "ipython3",
   "version": "3.12.2"
  }
 },
 "nbformat": 4,
 "nbformat_minor": 2
}
